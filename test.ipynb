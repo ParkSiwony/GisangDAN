{
 "cells": [
  {
   "cell_type": "markdown",
   "metadata": {},
   "source": [
    "입력, 출력, 변수, 객체"
   ]
  },
  {
   "cell_type": "code",
   "execution_count": 12,
   "metadata": {},
   "outputs": [
    {
     "name": "stdout",
     "output_type": "stream",
     "text": [
      "Hello, World!\n"
     ]
    }
   ],
   "source": [
    "print(\"Hello, World!\")"
   ]
  },
  {
   "cell_type": "markdown",
   "metadata": {},
   "source": [
    "input 함수 -> 무조건 문자열로 입력됨\n",
    " 따라서 정수 변수를 사용하고 싶다면 int(input()), 실수 변수를 사용하고 싶다면 float(input()) 사용"
   ]
  },
  {
   "cell_type": "code",
   "execution_count": null,
   "metadata": {},
   "outputs": [],
   "source": [
    "name = input(\"이름 입력해주세요.\")\n",
    "print(name + \"님! 안녕하세요!\")"
   ]
  },
  {
   "cell_type": "code",
   "execution_count": null,
   "metadata": {},
   "outputs": [
    {
     "name": "stdout",
     "output_type": "stream",
     "text": [
      "작년은 2024 년입니다.\n"
     ]
    }
   ],
   "source": [
    "#실습2 올해년도를 입력받아 작년년도를 출력하는 법\n",
    "LastYear=int(input(\"올해 년도를 입력하세요.\"))-1\n",
    "print(\"작년은\", LastYear,\"년입니다.\")"
   ]
  },
  {
   "cell_type": "markdown",
   "metadata": {},
   "source": [
    "산술 연산자: +, -, *, **, %, /, // \n",
    "\n",
    "% 나머지\n",
    "** 제곱\n",
    "/ 실수 나눗셈\n",
    "// 정수 나눗셈 - 몫만\n",
    "\n",
    "비교 연산자: >=, <=, ==, !=\n",
    "\n",
    "논리 연산자: and, or, not\n",
    "or - 연산자 왼쪽 결과 먼저 확인 -> 가벼운 연산을 연산자 왼쪽에 두기\n",
    "If A or B is true \n",
    "\n",
    "연산자 우선순위: 비교 연산자 > 논리 연산자, 괄호로 우선순위 변경\n"
   ]
  },
  {
   "cell_type": "code",
   "execution_count": null,
   "metadata": {},
   "outputs": [
    {
     "name": "stdout",
     "output_type": "stream",
     "text": [
      "얼탱\n"
     ]
    }
   ],
   "source": [
    "A=654646856\n",
    "B=765465656\n",
    "if not (A >= B or A==B):\n",
    "    print(\"얼탱\")\n",
    "else: print(\"당연한 소리\")"
   ]
  },
  {
   "cell_type": "code",
   "execution_count": null,
   "metadata": {},
   "outputs": [],
   "source": []
  }
 ],
 "metadata": {
  "kernelspec": {
   "display_name": "Python 3",
   "language": "python",
   "name": "python3"
  },
  "language_info": {
   "codemirror_mode": {
    "name": "ipython",
    "version": 3
   },
   "file_extension": ".py",
   "mimetype": "text/x-python",
   "name": "python",
   "nbconvert_exporter": "python",
   "pygments_lexer": "ipython3",
   "version": "3.12.1"
  }
 },
 "nbformat": 4,
 "nbformat_minor": 2
}
